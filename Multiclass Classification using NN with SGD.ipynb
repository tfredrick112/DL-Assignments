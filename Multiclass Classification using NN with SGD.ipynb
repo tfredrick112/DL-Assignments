{
 "cells": [
  {
   "cell_type": "markdown",
   "metadata": {},
   "source": [
    "In this notebook, I have implemented multiclass classification using a neural network.\n",
    "\n",
    "1. Number of hidden layers = 2\n",
    "2. Number of nodes in each layer:\n",
    "    - input layer: 2\n",
    "    - first hidden layer: 5\n",
    "    - second hidden layer: 5\n",
    "    - output layer: 3\n",
    "3. Activation functions:\n",
    "    - hidden layers: tanh\n",
    "    - output layer: softmax\n",
    "4. Number of epochs: 1000\n",
    "5. Optimizer: Stochastic Gradient Descent\n",
    "6. Learning rate: 0.001"
   ]
  },
  {
   "cell_type": "code",
   "execution_count": 1,
   "metadata": {},
   "outputs": [],
   "source": [
    "import pandas as pd\n",
    "import numpy as np\n",
    "import matplotlib.pyplot as plt\n",
    "from tqdm import tqdm"
   ]
  },
  {
   "cell_type": "code",
   "execution_count": 2,
   "metadata": {},
   "outputs": [
    {
     "data": {
      "text/html": [
       "<div>\n",
       "<style scoped>\n",
       "    .dataframe tbody tr th:only-of-type {\n",
       "        vertical-align: middle;\n",
       "    }\n",
       "\n",
       "    .dataframe tbody tr th {\n",
       "        vertical-align: top;\n",
       "    }\n",
       "\n",
       "    .dataframe thead th {\n",
       "        text-align: right;\n",
       "    }\n",
       "</style>\n",
       "<table border=\"1\" class=\"dataframe\">\n",
       "  <thead>\n",
       "    <tr style=\"text-align: right;\">\n",
       "      <th></th>\n",
       "      <th>x1</th>\n",
       "      <th>x2</th>\n",
       "      <th>label</th>\n",
       "    </tr>\n",
       "  </thead>\n",
       "  <tbody>\n",
       "    <tr>\n",
       "      <th>0</th>\n",
       "      <td>2.68282</td>\n",
       "      <td>3.04190</td>\n",
       "      <td>1.0</td>\n",
       "    </tr>\n",
       "    <tr>\n",
       "      <th>1</th>\n",
       "      <td>-9.40585</td>\n",
       "      <td>2.37006</td>\n",
       "      <td>2.0</td>\n",
       "    </tr>\n",
       "    <tr>\n",
       "      <th>2</th>\n",
       "      <td>5.23510</td>\n",
       "      <td>-0.25123</td>\n",
       "      <td>1.0</td>\n",
       "    </tr>\n",
       "    <tr>\n",
       "      <th>3</th>\n",
       "      <td>-0.16270</td>\n",
       "      <td>2.60706</td>\n",
       "      <td>1.0</td>\n",
       "    </tr>\n",
       "    <tr>\n",
       "      <th>4</th>\n",
       "      <td>11.16277</td>\n",
       "      <td>-11.61693</td>\n",
       "      <td>0.0</td>\n",
       "    </tr>\n",
       "  </tbody>\n",
       "</table>\n",
       "</div>"
      ],
      "text/plain": [
       "         x1        x2  label\n",
       "0   2.68282   3.04190    1.0\n",
       "1  -9.40585   2.37006    2.0\n",
       "2   5.23510  -0.25123    1.0\n",
       "3  -0.16270   2.60706    1.0\n",
       "4  11.16277 -11.61693    0.0"
      ]
     },
     "execution_count": 2,
     "metadata": {},
     "output_type": "execute_result"
    }
   ],
   "source": [
    "df = pd.read_csv('train3class.csv')\n",
    "df = df.sample(frac=1).reset_index(drop=True)\n",
    "df.head()"
   ]
  },
  {
   "cell_type": "markdown",
   "metadata": {},
   "source": [
    "Let us check the classes in the dataset, and how many examples belong to each class"
   ]
  },
  {
   "cell_type": "code",
   "execution_count": 3,
   "metadata": {},
   "outputs": [
    {
     "data": {
      "text/plain": [
       "0.0    151\n",
       "2.0    150\n",
       "1.0    150\n",
       "Name: label, dtype: int64"
      ]
     },
     "execution_count": 3,
     "metadata": {},
     "output_type": "execute_result"
    }
   ],
   "source": [
    "df['label'].value_counts()"
   ]
  },
  {
   "cell_type": "markdown",
   "metadata": {},
   "source": [
    "Split the data into training and test sets: 80% training, 20% test"
   ]
  },
  {
   "cell_type": "code",
   "execution_count": 4,
   "metadata": {},
   "outputs": [],
   "source": [
    "X = np.array(df[['x1', 'x2']])\n",
    "y = np.array(df['label'])\n",
    "\n",
    "X_train = X[:int(df.shape[0]*0.8), :]\n",
    "X_test = X[int(df.shape[0]*0.8):, :]\n",
    "y_train = y[:int(df.shape[0]*0.8)]\n",
    "y_test = y[int(df.shape[0]*0.8):]\n",
    "\n",
    "# Convert the training labels into one-hot vectors.\n",
    "temp = np.zeros((y_train.shape[0], 3))\n",
    "for i in range(len(temp)):\n",
    "    temp[i][int(y_train[i])] = 1\n",
    "y_train_one_hot = temp\n",
    "\n",
    "temp1 = np.zeros((y_test.shape[0], 3))\n",
    "for i in range(len(temp1)):\n",
    "    temp1[i][int(y_test[i])] = 1\n",
    "y_test_one_hot = temp1"
   ]
  },
  {
   "cell_type": "markdown",
   "metadata": {},
   "source": [
    "### No. of nodes in the Input and Output Layers"
   ]
  },
  {
   "cell_type": "code",
   "execution_count": 5,
   "metadata": {},
   "outputs": [],
   "source": [
    "input_nodes = X_train.shape[1]\n",
    "output_nodes = y_train_one_hot.shape[1]"
   ]
  },
  {
   "cell_type": "markdown",
   "metadata": {},
   "source": [
    "### Activation functions and their Derivatives"
   ]
  },
  {
   "cell_type": "code",
   "execution_count": 6,
   "metadata": {},
   "outputs": [],
   "source": [
    "def tanh(x):\n",
    "    return np.tanh(x)\n",
    "\n",
    "def tanh_derivative(x):\n",
    "    # x is the tanh value\n",
    "    return (1 - (np.tanh(x)**2))\n",
    "\n",
    "def sigmoid(x):\n",
    "    return 1.0/(1+ np.exp(-x))\n",
    "\n",
    "def sigmoid_derivative(x):\n",
    "    return sigmoid(x) * (1.0 - sigmoid(x))\n",
    "\n",
    "def softmax(x):\n",
    "    \"\"\"Compute the softmax of vector x in a numerically stable way.\"\"\"\n",
    "    shiftx = x - np.max(x)\n",
    "    exps = np.exp(shiftx)\n",
    "    return exps / np.sum(exps)"
   ]
  },
  {
   "cell_type": "markdown",
   "metadata": {},
   "source": [
    "### Loss function and its derivative"
   ]
  },
  {
   "cell_type": "code",
   "execution_count": 7,
   "metadata": {},
   "outputs": [],
   "source": [
    "def crossentropyloss(y, y_hat):\n",
    "    \"\"\"Categorical cross-entropy loss for multiclass classification\"\"\"\n",
    "    return -np.sum(y.reshape(y_hat.shape) * np.log(y_hat))\n",
    "\n",
    "def crossentropyloss_derivative(y, y_hat):\n",
    "    \"\"\"Derivative of the cross entropy loss\"\"\"\n",
    "    return -np.divide(y, y_hat)"
   ]
  },
  {
   "cell_type": "markdown",
   "metadata": {},
   "source": [
    "### Initialization"
   ]
  },
  {
   "cell_type": "code",
   "execution_count": 8,
   "metadata": {},
   "outputs": [],
   "source": [
    "def initialize_parameters(layer_dims):\n",
    "    np.random.seed(42)\n",
    "    parameters = {}\n",
    "    for i in range(1, len(layer_dims)):\n",
    "        W = np.random.rand(layer_dims[i], layer_dims[i-1])*0.01\n",
    "        b = np.zeros((layer_dims[i], 1))\n",
    "        parameters[\"W\"+str(i)] = W\n",
    "        parameters[\"b\"+str(i)] = b\n",
    "    \n",
    "    return parameters"
   ]
  },
  {
   "cell_type": "markdown",
   "metadata": {},
   "source": [
    "### Forward Propagation"
   ]
  },
  {
   "cell_type": "code",
   "execution_count": 9,
   "metadata": {},
   "outputs": [],
   "source": [
    "def forward_propagation(X, parameters):\n",
    "    L = len(layer_dims)\n",
    "    A = [None]*L\n",
    "    Z = [None]*L\n",
    "    A[0] = X.reshape((2, 1))\n",
    "    \n",
    "    for l in range(1, L):\n",
    "        W = parameters[\"W\"+str(l)]\n",
    "        b = parameters[\"b\"+str(l)]\n",
    "        Z[l] = np.dot(W, A[l-1]) + b\n",
    "        if l == L-1:\n",
    "            A[l] = softmax(Z[l])\n",
    "        else:\n",
    "            A[l] = tanh(Z[l])\n",
    "            \n",
    "    output = A[L-1]\n",
    "            \n",
    "    return output, A, Z "
   ]
  },
  {
   "cell_type": "markdown",
   "metadata": {},
   "source": [
    "### Backpropagation"
   ]
  },
  {
   "cell_type": "code",
   "execution_count": 10,
   "metadata": {},
   "outputs": [],
   "source": [
    "def backprop(y_hat, y, A, Z, parameters):\n",
    "    gradients = {}\n",
    "    L = len(layer_dims) - 1\n",
    "    y = y.reshape(y_hat.shape)\n",
    "    dWL = np.dot((y_hat - y), A[L-1].T)\n",
    "    dbL = y_hat - y\n",
    "    dZL = y_hat - y\n",
    "    dAL = -np.divide(y, y_hat)\n",
    "    \n",
    "    gradients[\"dA\"+str(L)] = dAL\n",
    "    gradients[\"dW\"+str(L)] = dWL\n",
    "    gradients[\"db\"+str(L)] = dbL\n",
    "    gradients[\"dZ\"+str(L)] = dZL\n",
    "    \n",
    "    for l in reversed(range(1, L)):\n",
    "        gradients[\"dA\"+str(l)] = np.dot(parameters[\"W\"+str(l+1)].T, gradients[\"dZ\"+str(l+1)])\n",
    "        gradients[\"dZ\"+str(l)] = gradients[\"dA\"+str(l)] * tanh_derivative(Z[l])\n",
    "        gradients[\"dW\"+str(l)] = np.dot(gradients[\"dZ\"+str(l)], A[l-1].T)\n",
    "        gradients[\"db\"+str(l)] = gradients[\"dZ\"+str(l)]\n",
    "        \n",
    "    return gradients"
   ]
  },
  {
   "cell_type": "markdown",
   "metadata": {},
   "source": [
    "### Parameter Update"
   ]
  },
  {
   "cell_type": "code",
   "execution_count": 11,
   "metadata": {},
   "outputs": [],
   "source": [
    "def update_parameters(parameters, grads, learning_rate):\n",
    "    L = len(parameters) // 2 # number of layers in the neural network\n",
    "\n",
    "    for l in range(1, L + 1):\n",
    "        parameters[\"W\" + str(l)] = parameters[\"W\" + str(l)] - learning_rate * grads[\"dW\" + str(l)]\n",
    "        parameters[\"b\" + str(l)] = parameters[\"b\" + str(l)] - learning_rate * grads[\"db\" + str(l)]\n",
    "\n",
    "    return parameters"
   ]
  },
  {
   "cell_type": "markdown",
   "metadata": {},
   "source": [
    "### Plotting cost curve"
   ]
  },
  {
   "cell_type": "code",
   "execution_count": 12,
   "metadata": {},
   "outputs": [],
   "source": [
    "def plot_cost_curve(train_costs, val_costs):\n",
    "    plt.plot(list(range(len(train_costs))), train_costs, 'r', label=\"Training loss\")\n",
    "    plt.plot(list(range(len(val_costs))), val_costs, 'lime', label=\"Validation loss\")\n",
    "    plt.title(\"Training Loss vs Number of Epochs\", size=18)\n",
    "    plt.xlabel(\"Number of epochs\", size=14)\n",
    "    plt.ylabel(\"Loss\", size=14)\n",
    "    plt.grid()\n",
    "    plt.legend()\n",
    "    plt.show()"
   ]
  },
  {
   "cell_type": "markdown",
   "metadata": {},
   "source": [
    "### Building the Model"
   ]
  },
  {
   "cell_type": "code",
   "execution_count": 13,
   "metadata": {},
   "outputs": [],
   "source": [
    "def NN_model(X_train, y_train, X_test, y_test, layer_dims, learning_rate=0.001, max_epochs=500):\n",
    "    parameters = initialize_parameters(layer_dims)\n",
    "    \n",
    "    epoch_cost = [] # average training cost at the end of every epoch\n",
    "    \n",
    "    prev_epoch_cost = 1000 # some large initial value\n",
    "    curr_epoch_cost = 0\n",
    "    \n",
    "    validation_epoch_cost = [] # average validation cost at the end of every epoch\n",
    "    \n",
    "    count=1 # keeps track of the number of epochs\n",
    "    # An epoch is one complete pass through the training data\n",
    "    \n",
    "    while abs(prev_epoch_cost-curr_epoch_cost) > 1e-7 and count<=max_epochs:\n",
    "        costs = []# training costs\n",
    "        val_costs = []# validation costs\n",
    "        count+=1# increment the number of epochs\n",
    "        for i in range(len(X_train)):\n",
    "            output, A, Z = forward_propagation(X_train[i], parameters)\n",
    "            cost = crossentropyloss(y_train[i], output)\n",
    "            gradients = backprop(output, y_train[i], A, Z, parameters)\n",
    "            parameters = update_parameters(parameters, gradients, learning_rate)\n",
    "            costs.append(cost)\n",
    "            \n",
    "        # vaidation part (these examples do not contribute to parameter update)\n",
    "        # therefore, the 'model' has still not seen these examples.\n",
    "        for j in range(len(X_test)):\n",
    "            out, _, _ = forward_propagation(X_test[j], parameters)\n",
    "            cost = crossentropyloss(y_test[j], out)\n",
    "            val_costs.append(cost)\n",
    "            \n",
    "        # average training loss for one epoch\n",
    "        curr_epoch_cost = sum(costs)/len(X_train)\n",
    "        if len(epoch_cost) >= 1:\n",
    "            prev_epoch_cost = epoch_cost[-1]\n",
    "        epoch_cost.append(curr_epoch_cost)\n",
    "        \n",
    "        # average validation loss for one epoch\n",
    "        validation_epoch_cost.append(sum(val_costs)/len(X_test))\n",
    "        \n",
    "    plot_cost_curve(epoch_cost, validation_epoch_cost)\n",
    "    return parameters, epoch_cost"
   ]
  },
  {
   "cell_type": "markdown",
   "metadata": {},
   "source": [
    "### Predictions and Accuracy"
   ]
  },
  {
   "cell_type": "code",
   "execution_count": 14,
   "metadata": {},
   "outputs": [],
   "source": [
    "def predict(X, parameters):\n",
    "    # X here is one training example\n",
    "    pred, _, _ = forward_propagation(X, parameters)\n",
    "    return pred\n",
    "\n",
    "def predictions(X, parameters):\n",
    "    # X is an array of many training examples\n",
    "    y_pred = np.zeros(len(X))\n",
    "    for i in range(len(X)):\n",
    "        y_pred[i] = np.argmax(predict(X[i], parameters))\n",
    "    return y_pred\n",
    "        \n",
    "def model_accuracy(predictions, y_truth):\n",
    "    return np.mean(predictions == y_truth)*100"
   ]
  },
  {
   "cell_type": "code",
   "execution_count": 15,
   "metadata": {},
   "outputs": [
    {
     "data": {
      "image/png": "[encoded data removed]",
      "text/plain": [
       "<Figure size 432x288 with 1 Axes>"
      ]
     },
     "metadata": {
      "needs_background": "light"
     },
     "output_type": "display_data"
    }
   ],
   "source": [
    "layer_dims = [input_nodes, 5, 5, output_nodes]\n",
    "parameters, epoch_cost = NN_model(X_train, y_train_one_hot, X_test, y_test_one_hot, layer_dims, learning_rate=0.001, max_epochs=1000)"
   ]
  },
  {
   "cell_type": "code",
   "execution_count": 16,
   "metadata": {},
   "outputs": [
    {
     "name": "stdout",
     "output_type": "stream",
     "text": [
      "Training accuracy = 87.5%\n",
      "Test accuracy = 89.011%\n"
     ]
    }
   ],
   "source": [
    "y_pred_train = predictions(X_train, parameters)\n",
    "print(\"Training accuracy = {}%\".format(round(model_accuracy(y_pred_train,y_train), 3)))\n",
    "\n",
    "y_pred_test = predictions(X_test, parameters)\n",
    "print(\"Test accuracy = {}%\".format(round(model_accuracy(y_pred_test, y_test), 3)))"
   ]
  },
  {
   "cell_type": "code",
   "execution_count": null,
   "metadata": {},
   "outputs": [],
   "source": []
  }
 ],
 "metadata": {
  "kernelspec": {
   "display_name": "env37",
   "language": "python",
   "name": "env37"
  },
  "language_info": {
   "codemirror_mode": {
    "name": "ipython",
    "version": 3
   },
   "file_extension": ".py",
   "mimetype": "text/x-python",
   "name": "python",
   "nbconvert_exporter": "python",
   "pygments_lexer": "ipython3",
   "version": "3.7.2"
  }
 },
 "nbformat": 4,
 "nbformat_minor": 2
}
