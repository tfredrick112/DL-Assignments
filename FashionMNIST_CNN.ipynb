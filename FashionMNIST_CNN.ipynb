{
  "nbformat": 4,
  "nbformat_minor": 0,
  "metadata": {
    "kernelspec": {
      "display_name": "env37",
      "language": "python",
      "name": "env37"
    },
    "language_info": {
      "codemirror_mode": {
        "name": "ipython",
        "version": 3
      },
      "file_extension": ".py",
      "mimetype": "text/x-python",
      "name": "python",
      "nbconvert_exporter": "python",
      "pygments_lexer": "ipython3",
      "version": "3.7.2"
    },
    "colab": {
      "name": "FashionMNIST_CNN.ipynb",
      "provenance": [],
      "collapsed_sections": [],
      "include_colab_link": true
    },
    "accelerator": "GPU"
  },
  "cells": [
    {
      "cell_type": "markdown",
      "metadata": {
        "id": "view-in-github",
        "colab_type": "text"
      },
      "source": [
        "<a href=\"https://colab.research.google.com/github/tfredrick112/DL-Assignments/blob/master/FashionMNIST_CNN.ipynb\" target=\"_parent\"><img src=\"https://colab.research.google.com/assets/colab-badge.svg\" alt=\"Open In Colab\"/></a>"
      ]
    },
    {
      "cell_type": "code",
      "metadata": {
        "id": "o8-fZJWTRrLB",
        "colab_type": "code",
        "colab": {
          "base_uri": "https://localhost:8080/",
          "height": 306
        },
        "outputId": "df91f1c3-edc4-4cd3-c996-ce443288b3c4"
      },
      "source": [
        "!nvidia-smi"
      ],
      "execution_count": 1,
      "outputs": [
        {
          "output_type": "stream",
          "text": [
            "Sun Mar 29 17:11:29 2020       \n",
            "+-----------------------------------------------------------------------------+\n",
            "| NVIDIA-SMI 440.64.00    Driver Version: 418.67       CUDA Version: 10.1     |\n",
            "|-------------------------------+----------------------+----------------------+\n",
            "| GPU  Name        Persistence-M| Bus-Id        Disp.A | Volatile Uncorr. ECC |\n",
            "| Fan  Temp  Perf  Pwr:Usage/Cap|         Memory-Usage | GPU-Util  Compute M. |\n",
            "|===============================+======================+======================|\n",
            "|   0  Tesla P100-PCIE...  Off  | 00000000:00:04.0 Off |                    0 |\n",
            "| N/A   33C    P0    26W / 250W |      0MiB / 16280MiB |      0%      Default |\n",
            "+-------------------------------+----------------------+----------------------+\n",
            "                                                                               \n",
            "+-----------------------------------------------------------------------------+\n",
            "| Processes:                                                       GPU Memory |\n",
            "|  GPU       PID   Type   Process name                             Usage      |\n",
            "|=============================================================================|\n",
            "|  No running processes found                                                 |\n",
            "+-----------------------------------------------------------------------------+\n"
          ],
          "name": "stdout"
        }
      ]
    },
    {
      "cell_type": "markdown",
      "metadata": {
        "id": "eSTLY3MGRhb1",
        "colab_type": "text"
      },
      "source": [
        "Import necessary libraries"
      ]
    },
    {
      "cell_type": "code",
      "metadata": {
        "id": "C1sKLTr8Rhb2",
        "colab_type": "code",
        "colab": {}
      },
      "source": [
        "import pandas as pd\n",
        "import numpy as np\n",
        "import matplotlib.pyplot as plt\n",
        "from tqdm import tqdm"
      ],
      "execution_count": 0,
      "outputs": []
    },
    {
      "cell_type": "markdown",
      "metadata": {
        "id": "gtY9fxQ3Rhb7",
        "colab_type": "text"
      },
      "source": [
        "Load the training and validation images, which are stored as rows in a dataframe. We will later reshape each image to get images of shape (28, 28)."
      ]
    },
    {
      "cell_type": "code",
      "metadata": {
        "id": "XkisLtCIRhb8",
        "colab_type": "code",
        "colab": {}
      },
      "source": [
        "dftrain = pd.read_csv('train.csv')\n",
        "dfval = pd.read_csv('val.csv')"
      ],
      "execution_count": 0,
      "outputs": []
    },
    {
      "cell_type": "markdown",
      "metadata": {
        "id": "yUyY4wOYRhcA",
        "colab_type": "text"
      },
      "source": [
        "Number of images belonging to each class:"
      ]
    },
    {
      "cell_type": "code",
      "metadata": {
        "id": "eHavHxl7RhcB",
        "colab_type": "code",
        "colab": {
          "base_uri": "https://localhost:8080/",
          "height": 204
        },
        "outputId": "8162b462-b1ff-444a-f854-a236b4e54fab"
      },
      "source": [
        "dftrain['label'].value_counts()"
      ],
      "execution_count": 4,
      "outputs": [
        {
          "output_type": "execute_result",
          "data": {
            "text/plain": [
              "7    5550\n",
              "6    5533\n",
              "2    5510\n",
              "1    5503\n",
              "5    5497\n",
              "3    5492\n",
              "8    5485\n",
              "0    5479\n",
              "9    5478\n",
              "4    5473\n",
              "Name: label, dtype: int64"
            ]
          },
          "metadata": {
            "tags": []
          },
          "execution_count": 4
        }
      ]
    },
    {
      "cell_type": "markdown",
      "metadata": {
        "id": "q0i7LpIhRhcG",
        "colab_type": "text"
      },
      "source": [
        "We see that the images are evenly distributed into all the 10 classes. There is no skew in the dataset, so accuracy will be a good evaluation metric for our classification model.\n",
        "\n",
        "Defining a few constants:"
      ]
    },
    {
      "cell_type": "code",
      "metadata": {
        "id": "fsC7KRJoRhcH",
        "colab_type": "code",
        "colab": {}
      },
      "source": [
        "# number of training examples\n",
        "M = dftrain.shape[0]\n",
        "\n",
        "# number of validation examples\n",
        "Mval = dfval.shape[0]\n",
        "\n",
        "# dimensions of the image\n",
        "img_rows = 28\n",
        "img_cols = 28\n",
        "\n",
        "# number of classes\n",
        "num_classes = len(dftrain['label'].value_counts())"
      ],
      "execution_count": 0,
      "outputs": []
    },
    {
      "cell_type": "markdown",
      "metadata": {
        "id": "ChxLW8TURhcL",
        "colab_type": "text"
      },
      "source": [
        "Preparing the training and validation dataset and corresponding labels."
      ]
    },
    {
      "cell_type": "code",
      "metadata": {
        "id": "MxNFvMbmRhcM",
        "colab_type": "code",
        "colab": {}
      },
      "source": [
        "# pick only the pixel columns\n",
        "data_columns = [col for col in list(dftrain.columns) if col not in ['label', 'id']]\n",
        "\n",
        "dftrain_data = dftrain[data_columns]\n",
        "dftrain_labels = dftrain['label']\n",
        "\n",
        "dfval_data = dfval[data_columns]\n",
        "dfval_labels = dfval['label']\n",
        "\n",
        "# Training images: X_train is of shape (55000, 28, 28)\n",
        "X_train = np.array(dftrain_data).reshape((M, img_rows, img_cols, 1))\n",
        "# Validation images: X_val is of shape (5000, 28, 28)\n",
        "X_val = np.array(dfval_data).reshape((Mval, img_rows, img_cols, 1))\n",
        "\n",
        "# Labels for the training examples\n",
        "y_train = np.array(dftrain_labels)\n",
        "# Labels for the validation examples\n",
        "y_val = np.array(dfval_labels)\n",
        "\n",
        "# Convert the labels to one-hot vectors\n",
        "from tensorflow.keras.utils import to_categorical\n",
        "y_train_one_hot = to_categorical(y_train)\n",
        "y_val_one_hot = to_categorical(y_val)"
      ],
      "execution_count": 0,
      "outputs": []
    },
    {
      "cell_type": "markdown",
      "metadata": {
        "id": "qEBpTtHsRhcQ",
        "colab_type": "text"
      },
      "source": [
        "Import necessary layers, models and callbacks from tensorflow."
      ]
    },
    {
      "cell_type": "code",
      "metadata": {
        "id": "M1M6FIHxRhcR",
        "colab_type": "code",
        "colab": {}
      },
      "source": [
        "import tensorflow as tf\n",
        "# layers in the CNN\n",
        "from tensorflow.keras.layers import Conv2D, Dense, Flatten, MaxPool2D, BatchNormalization\n",
        "from tensorflow.keras.models import Sequential\n",
        "\n",
        "# optimizer\n",
        "from tensorflow.keras.optimizers import Adam\n",
        "\n",
        "# fine tuning: patience, early stopping, saving the best performing model etc.\n",
        "from tensorflow.keras.callbacks import EarlyStopping, ModelCheckpoint"
      ],
      "execution_count": 0,
      "outputs": []
    },
    {
      "cell_type": "markdown",
      "metadata": {
        "id": "EDeEciXcRhcV",
        "colab_type": "text"
      },
      "source": [
        "Build the model layer-by-layer."
      ]
    },
    {
      "cell_type": "code",
      "metadata": {
        "id": "8079gTmiRhcW",
        "colab_type": "code",
        "colab": {}
      },
      "source": [
        "def create_model(choice_init, batch_norm):\n",
        "    model = Sequential()\n",
        "\n",
        "    # padding = 'same', because the stride = 1 and kernel_size=(3, 3) and we want a padding of 1 layer.\n",
        "    model.add(Conv2D(filters=64, kernel_size=(3, 3), strides=(1, 1), padding='same',\n",
        "                     activation='relu', kernel_initializer=choice_init,\n",
        "                     input_shape=(img_rows, img_cols, 1)))\n",
        "    model.add(MaxPool2D(pool_size=(2, 2)))\n",
        "\n",
        "    # second convolutional layer\n",
        "    model.add(Conv2D(filters=128, kernel_size=(3, 3), strides=(1, 1), padding='same',\n",
        "                     activation='relu', kernel_initializer=choice_init))\n",
        "    model.add(MaxPool2D(pool_size=(2, 2)))\n",
        "\n",
        "    # third convolutional layer\n",
        "    model.add(Conv2D(filters=256, kernel_size=(3, 3), strides=(1, 1), padding='same',\n",
        "                     activation='relu', kernel_initializer=choice_init))\n",
        "\n",
        "    # fourth convolutional layer\n",
        "    model.add(Conv2D(filters=256, kernel_size=(3, 3), strides=(1, 1), padding='same',\n",
        "                     activation='relu', kernel_initializer=choice_init))\n",
        "\n",
        "\n",
        "    model.add(MaxPool2D(pool_size=(2, 2)))\n",
        "\n",
        "    model.add(Flatten())\n",
        "\n",
        "    # fully connected layers\n",
        "    model.add(Dense(256, activation='relu', kernel_initializer=choice_init))\n",
        "    model.add(Dense(1024, activation='relu', kernel_initializer=choice_init))\n",
        "\n",
        "    # Batch normalization before the softmax layer.\n",
        "    if batch_norm:\n",
        "        model.add(BatchNormalization())\n",
        "\n",
        "    # softmax layer for classification\n",
        "    model.add(Dense(num_classes, activation='softmax', kernel_initializer=choice_init))\n",
        "    return model"
      ],
      "execution_count": 0,
      "outputs": []
    },
    {
      "cell_type": "markdown",
      "metadata": {
        "id": "-u6LmQNsRhca",
        "colab_type": "text"
      },
      "source": [
        "Compile the model."
      ]
    },
    {
      "cell_type": "code",
      "metadata": {
        "id": "UShpuqx9Rhcb",
        "colab_type": "code",
        "colab": {}
      },
      "source": [
        "from tensorflow.keras.optimizers import Adam\n",
        "\n",
        "adam = Adam(learning_rate=0.001)\n",
        "model.compile(optimizer=adam, loss='categorical_crossentropy', metrics=['accuracy'])"
      ],
      "execution_count": 0,
      "outputs": []
    },
    {
      "cell_type": "markdown",
      "metadata": {
        "id": "JTl2m0xtRhce",
        "colab_type": "text"
      },
      "source": [
        "Actual training step"
      ]
    },
    {
      "cell_type": "code",
      "metadata": {
        "scrolled": true,
        "id": "C25PQa6IRhcf",
        "colab_type": "code",
        "colab": {},
        "outputId": "b5bd9ff3-704b-4ce7-de88-d6915dc32a65"
      },
      "source": [
        "history = model.fit(X_train, y_train_one_hot, batch_size=50, epochs=10, \n",
        "                    verbose=1, validation_data=(X_val, y_val_one_hot))"
      ],
      "execution_count": 0,
      "outputs": [
        {
          "output_type": "stream",
          "text": [
            "Train on 55000 samples, validate on 5000 samples\n",
            "Epoch 1/10\n",
            "55000/55000 [==============================] - 249s 5ms/sample - loss: 0.4995 - accuracy: 0.8350 - val_loss: 0.2986 - val_accuracy: 0.8876\n",
            "Epoch 2/10\n",
            "55000/55000 [==============================] - 242s 4ms/sample - loss: 0.2849 - accuracy: 0.8963 - val_loss: 0.2754 - val_accuracy: 0.8942\n",
            "Epoch 3/10\n",
            "55000/55000 [==============================] - 236s 4ms/sample - loss: 0.2521 - accuracy: 0.9074 - val_loss: 0.2881 - val_accuracy: 0.8974\n",
            "Epoch 4/10\n",
            "55000/55000 [==============================] - 242s 4ms/sample - loss: 0.2262 - accuracy: 0.9178 - val_loss: 0.2531 - val_accuracy: 0.9060\n",
            "Epoch 5/10\n",
            "55000/55000 [==============================] - 241s 4ms/sample - loss: 0.2038 - accuracy: 0.9255 - val_loss: 0.2473 - val_accuracy: 0.9114\n",
            "Epoch 6/10\n",
            "55000/55000 [==============================] - 238s 4ms/sample - loss: 0.1900 - accuracy: 0.9285 - val_loss: 0.2764 - val_accuracy: 0.9006\n",
            "Epoch 7/10\n",
            "55000/55000 [==============================] - 240s 4ms/sample - loss: 0.1747 - accuracy: 0.9347 - val_loss: 0.2463 - val_accuracy: 0.9198\n",
            "Epoch 8/10\n",
            "55000/55000 [==============================] - 238s 4ms/sample - loss: 0.1596 - accuracy: 0.9417 - val_loss: 0.2771 - val_accuracy: 0.9070\n",
            "Epoch 9/10\n",
            "55000/55000 [==============================] - 242s 4ms/sample - loss: 0.1460 - accuracy: 0.9460 - val_loss: 0.2742 - val_accuracy: 0.9108\n",
            "Epoch 10/10\n",
            "55000/55000 [==============================] - 242s 4ms/sample - loss: 0.1345 - accuracy: 0.9499 - val_loss: 0.3053 - val_accuracy: 0.9094\n"
          ],
          "name": "stdout"
        }
      ]
    },
    {
      "cell_type": "markdown",
      "metadata": {
        "id": "a1yBn8DcRhcj",
        "colab_type": "text"
      },
      "source": [
        "Early Stopping:\n",
        "\n",
        "In order to prevent overfitting, we must ensure that we do not train the model for too many epochs. We must stop once the validation loss reaches its minimum value. That is precisely the role of EarlyStopping. It **monitors** the validation loss, and stops training when its **minimum** is reached. The role of the **patience** parameter is as follows: Sometimes, we can reach a plateau in the validation loss curve, where the loss remains constant for a few epochs and then starts decreasing again. When we set the patience epoch to 5(for example), we will stop training only if the validation loss does not improve over the next 5 epochs."
      ]
    },
    {
      "cell_type": "code",
      "metadata": {
        "id": "62kv1dL8Rhck",
        "colab_type": "code",
        "colab": {}
      },
      "source": [
        "es = EarlyStopping(monitor='val_loss', mode='min', verbose=1, patience=5)"
      ],
      "execution_count": 0,
      "outputs": []
    },
    {
      "cell_type": "markdown",
      "metadata": {
        "id": "SryjQKFURhcp",
        "colab_type": "text"
      },
      "source": [
        "Model Checkpoint\n",
        "\n",
        "Since we are using 'patience', when we finally stop training, we might not stop at the epoch that gives us the best performing model. The loss curve might have started to increase again within those 'patience' number of epochs. So we can use the ModelCheckpoint class to save the best performing model."
      ]
    },
    {
      "cell_type": "code",
      "metadata": {
        "id": "PSNsN9RjRhcq",
        "colab_type": "code",
        "colab": {}
      },
      "source": [
        "mc = ModelCheckpoint('best_model.h5', monitor='val_accuracy', mode='max', verbose=1, save_best_only=True)"
      ],
      "execution_count": 0,
      "outputs": []
    },
    {
      "cell_type": "markdown",
      "metadata": {
        "id": "cQYbVU86Rhct",
        "colab_type": "text"
      },
      "source": [
        "Plotting Loss curves"
      ]
    },
    {
      "cell_type": "code",
      "metadata": {
        "id": "Q0V9_1KCRhcu",
        "colab_type": "code",
        "colab": {}
      },
      "source": [
        "def plot_loss_curves(history):\n",
        "    x_axis = list(range(1, len(history.history['loss'])+1))\n",
        "    plt.plot(x_axis, history.history['loss'], color='red', label='Training Loss')\n",
        "    plt.plot(x_axis, history.history['val_loss'], color='lime', label='Validation Loss')\n",
        "    plt.title('Training Loss and Validation Loss', size=18)\n",
        "    plt.xlabel('Number of epochs', size=14)\n",
        "    plt.ylabel('Loss', size=14)\n",
        "    plt.legend()\n",
        "    plt.grid()\n",
        "    plt.show()"
      ],
      "execution_count": 0,
      "outputs": []
    },
    {
      "cell_type": "markdown",
      "metadata": {
        "id": "lJtkNSLORhcx",
        "colab_type": "text"
      },
      "source": [
        "Putting everything together"
      ]
    },
    {
      "cell_type": "code",
      "metadata": {
        "id": "90aqu5VDRhcy",
        "colab_type": "code",
        "colab": {}
      },
      "source": [
        "def train_model(X_train, y_train, X_val, y_val, learning_rate=0.001, batch_size=50, \n",
        "                num_epochs=20, choice_init='glorot_uniform', batch_norm=True):\n",
        "    # Create the model\n",
        "    fashion_mnist = create_model(choice_init, batch_norm)\n",
        "    \n",
        "    # Compile the model\n",
        "    adam = Adam(learning_rate=learning_rate)\n",
        "    fashion_mnist.compile(optimizer=adam, loss='categorical_crossentropy', metrics=['accuracy'])\n",
        "    \n",
        "    # Early stopping with patience and model checkpoint\n",
        "    es = EarlyStopping(monitor='val_loss', mode='min', verbose=1, patience=5)\n",
        "    mc = ModelCheckpoint('best_model.h5', monitor='val_accuracy', mode='max', verbose=1, save_best_only=True)\n",
        "    \n",
        "    # Fit training data\n",
        "    history = fashion_mnist.fit(X_train, y_train, batch_size=batch_size, epochs=num_epochs, \n",
        "                                verbose=1, validation_data=(X_val, y_val), callbacks=[es, mc])\n",
        "    \n",
        "    # plot graphs\n",
        "    plot_loss_curves(history)\n",
        "    return history"
      ],
      "execution_count": 0,
      "outputs": []
    },
    {
      "cell_type": "code",
      "metadata": {
        "id": "ydC045PARhc1",
        "colab_type": "code",
        "colab": {
          "base_uri": "https://localhost:8080/",
          "height": 1000
        },
        "outputId": "ba00fb77-7db4-4f20-88a4-53b8eb5a71af"
      },
      "source": [
        "lr = 0.001\n",
        "batch_size = 50\n",
        "max_epochs = 20\n",
        "choice_init = 'glorot_uniform'\n",
        "batch_norm = True\n",
        "\n",
        "train_model(X_train, y_train_one_hot, X_val, y_val_one_hot, learning_rate=lr, batch_size=batch_size, \n",
        "            num_epochs=max_epochs, choice_init=choice_init, batch_norm=batch_norm)"
      ],
      "execution_count": 23,
      "outputs": [
        {
          "output_type": "stream",
          "text": [
            "Epoch 1/20\n",
            "1098/1100 [============================>.] - ETA: 0s - loss: 0.4363 - accuracy: 0.8441\n",
            "Epoch 00001: val_accuracy improved from -inf to 0.81720, saving model to best_model.h5\n",
            "1100/1100 [==============================] - 7s 6ms/step - loss: 0.4361 - accuracy: 0.8441 - val_loss: 0.4966 - val_accuracy: 0.8172\n",
            "Epoch 2/20\n",
            "1100/1100 [==============================] - ETA: 0s - loss: 0.2826 - accuracy: 0.8987\n",
            "Epoch 00002: val_accuracy improved from 0.81720 to 0.89640, saving model to best_model.h5\n",
            "1100/1100 [==============================] - 7s 6ms/step - loss: 0.2826 - accuracy: 0.8987 - val_loss: 0.2944 - val_accuracy: 0.8964\n",
            "Epoch 3/20\n",
            "1100/1100 [==============================] - ETA: 0s - loss: 0.2360 - accuracy: 0.9151\n",
            "Epoch 00003: val_accuracy did not improve from 0.89640\n",
            "1100/1100 [==============================] - 7s 6ms/step - loss: 0.2360 - accuracy: 0.9151 - val_loss: 0.2873 - val_accuracy: 0.8942\n",
            "Epoch 4/20\n",
            "1093/1100 [============================>.] - ETA: 0s - loss: 0.2086 - accuracy: 0.9251\n",
            "Epoch 00004: val_accuracy improved from 0.89640 to 0.91220, saving model to best_model.h5\n",
            "1100/1100 [==============================] - 7s 6ms/step - loss: 0.2084 - accuracy: 0.9251 - val_loss: 0.2358 - val_accuracy: 0.9122\n",
            "Epoch 5/20\n",
            "1098/1100 [============================>.] - ETA: 0s - loss: 0.1825 - accuracy: 0.9348\n",
            "Epoch 00005: val_accuracy improved from 0.91220 to 0.91660, saving model to best_model.h5\n",
            "1100/1100 [==============================] - 7s 6ms/step - loss: 0.1825 - accuracy: 0.9348 - val_loss: 0.2408 - val_accuracy: 0.9166\n",
            "Epoch 6/20\n",
            "1093/1100 [============================>.] - ETA: 0s - loss: 0.1598 - accuracy: 0.9422\n",
            "Epoch 00006: val_accuracy did not improve from 0.91660\n",
            "1100/1100 [==============================] - 7s 6ms/step - loss: 0.1597 - accuracy: 0.9421 - val_loss: 0.2890 - val_accuracy: 0.9044\n",
            "Epoch 7/20\n",
            "1093/1100 [============================>.] - ETA: 0s - loss: 0.1360 - accuracy: 0.9511\n",
            "Epoch 00007: val_accuracy improved from 0.91660 to 0.91940, saving model to best_model.h5\n",
            "1100/1100 [==============================] - 7s 6ms/step - loss: 0.1357 - accuracy: 0.9513 - val_loss: 0.2290 - val_accuracy: 0.9194\n",
            "Epoch 8/20\n",
            "1092/1100 [============================>.] - ETA: 0s - loss: 0.1142 - accuracy: 0.9584\n",
            "Epoch 00008: val_accuracy did not improve from 0.91940\n",
            "1100/1100 [==============================] - 7s 6ms/step - loss: 0.1141 - accuracy: 0.9584 - val_loss: 0.2603 - val_accuracy: 0.9170\n",
            "Epoch 9/20\n",
            "1095/1100 [============================>.] - ETA: 0s - loss: 0.0988 - accuracy: 0.9644\n",
            "Epoch 00009: val_accuracy did not improve from 0.91940\n",
            "1100/1100 [==============================] - 7s 6ms/step - loss: 0.0986 - accuracy: 0.9645 - val_loss: 0.3055 - val_accuracy: 0.9192\n",
            "Epoch 10/20\n",
            "1100/1100 [==============================] - ETA: 0s - loss: 0.0823 - accuracy: 0.9704\n",
            "Epoch 00010: val_accuracy improved from 0.91940 to 0.91960, saving model to best_model.h5\n",
            "1100/1100 [==============================] - 7s 6ms/step - loss: 0.0823 - accuracy: 0.9704 - val_loss: 0.2764 - val_accuracy: 0.9196\n",
            "Epoch 11/20\n",
            "1094/1100 [============================>.] - ETA: 0s - loss: 0.0686 - accuracy: 0.9753\n",
            "Epoch 00011: val_accuracy improved from 0.91960 to 0.92480, saving model to best_model.h5\n",
            "1100/1100 [==============================] - 7s 6ms/step - loss: 0.0685 - accuracy: 0.9754 - val_loss: 0.2911 - val_accuracy: 0.9248\n",
            "Epoch 12/20\n",
            "1098/1100 [============================>.] - ETA: 0s - loss: 0.0585 - accuracy: 0.9787\n",
            "Epoch 00012: val_accuracy did not improve from 0.92480\n",
            "1100/1100 [==============================] - 7s 6ms/step - loss: 0.0587 - accuracy: 0.9786 - val_loss: 0.2951 - val_accuracy: 0.9236\n",
            "Epoch 00012: early stopping\n"
          ],
          "name": "stdout"
        },
        {
          "output_type": "display_data",
          "data": {
            "image/png": "[encoded data removed]",
            "text/plain": [
              "<Figure size 432x288 with 1 Axes>"
            ]
          },
          "metadata": {
            "tags": []
          }
        },
        {
          "output_type": "execute_result",
          "data": {
            "text/plain": [
              "<tensorflow.python.keras.callbacks.History at 0x7f80b8593160>"
            ]
          },
          "metadata": {
            "tags": []
          },
          "execution_count": 23
        }
      ]
    },
    {
      "cell_type": "code",
      "metadata": {
        "id": "HyXEScsPY64v",
        "colab_type": "code",
        "colab": {
          "base_uri": "https://localhost:8080/",
          "height": 88
        },
        "outputId": "2a107bbc-93fa-4b5f-dfc5-ba188c1fb147"
      },
      "source": [
        "from tensorflow.keras.models import load_model\n",
        "\n",
        "def accuracy_score():\n",
        "  best_model = load_model('best_model.h5')\n",
        "  _, train_acc = best_model.evaluate(X_train, y_train_one_hot, verbose=0)\n",
        "  _, val_acc = best_model.evaluate(X_val, y_val_one_hot, verbose=0)\n",
        "  print(\"Training accuracy: {}%\".format(round(train_acc*100, 3)))\n",
        "  print(\"Validation accuracy: {}%\".format(round(val_acc*100, 3)))\n",
        "\n",
        "accuracy_score()"
      ],
      "execution_count": 25,
      "outputs": [
        {
          "output_type": "stream",
          "text": [
            "WARNING:tensorflow:Error in loading the saved optimizer state. As a result, your model is starting with a freshly initialized optimizer.\n",
            "Training accuracy: 98.222%\n",
            "Validation accuracy: 92.48%\n"
          ],
          "name": "stdout"
        }
      ]
    },
    {
      "cell_type": "markdown",
      "metadata": {
        "id": "ZhgqBjAlb9T8",
        "colab_type": "text"
      },
      "source": [
        "For the following parameters:\n",
        "```\n",
        "lr = 0.001\n",
        "batch_size = 50\n",
        "max_epochs = 20\n",
        "choice_init = 'glorot_uniform'\n",
        "batch_norm = True\n",
        "```\n",
        "\n",
        "We get: \n",
        "```\n",
        "Training accuracy: 98.222%\n",
        "Validation accuracy: 92.48%\n",
        "The training stops after 12 epochs.\n",
        "```"
      ]
    },
    {
      "cell_type": "markdown",
      "metadata": {
        "id": "SL4WAmAeh8Ns",
        "colab_type": "text"
      },
      "source": [
        "He initialization:"
      ]
    },
    {
      "cell_type": "code",
      "metadata": {
        "id": "7vrzpIZ-Zv-r",
        "colab_type": "code",
        "colab": {
          "base_uri": "https://localhost:8080/",
          "height": 1000
        },
        "outputId": "33805066-7038-4456-f973-c4dc1d600d6c"
      },
      "source": [
        "lr = 0.001\n",
        "batch_size = 50\n",
        "max_epochs = 30\n",
        "choice_init = 'he_uniform'\n",
        "batch_norm = True\n",
        "\n",
        "train_model(X_train, y_train_one_hot, X_val, y_val_one_hot, learning_rate=lr, batch_size=batch_size, \n",
        "            num_epochs=max_epochs, choice_init=choice_init, batch_norm=batch_norm)"
      ],
      "execution_count": 26,
      "outputs": [
        {
          "output_type": "stream",
          "text": [
            "Epoch 1/30\n",
            "1094/1100 [============================>.] - ETA: 0s - loss: 0.4649 - accuracy: 0.8311\n",
            "Epoch 00001: val_accuracy improved from -inf to 0.75440, saving model to best_model.h5\n",
            "1100/1100 [==============================] - 7s 6ms/step - loss: 0.4643 - accuracy: 0.8312 - val_loss: 1.2451 - val_accuracy: 0.7544\n",
            "Epoch 2/30\n",
            "1092/1100 [============================>.] - ETA: 0s - loss: 0.3114 - accuracy: 0.8881\n",
            "Epoch 00002: val_accuracy improved from 0.75440 to 0.89340, saving model to best_model.h5\n",
            "1100/1100 [==============================] - 7s 6ms/step - loss: 0.3109 - accuracy: 0.8884 - val_loss: 0.3183 - val_accuracy: 0.8934\n",
            "Epoch 3/30\n",
            "1099/1100 [============================>.] - ETA: 0s - loss: 0.2502 - accuracy: 0.9098\n",
            "Epoch 00003: val_accuracy did not improve from 0.89340\n",
            "1100/1100 [==============================] - 7s 6ms/step - loss: 0.2502 - accuracy: 0.9098 - val_loss: 5.8260 - val_accuracy: 0.6752\n",
            "Epoch 4/30\n",
            "1097/1100 [============================>.] - ETA: 0s - loss: 0.2187 - accuracy: 0.9210\n",
            "Epoch 00004: val_accuracy improved from 0.89340 to 0.91120, saving model to best_model.h5\n",
            "1100/1100 [==============================] - 7s 6ms/step - loss: 0.2187 - accuracy: 0.9210 - val_loss: 0.2743 - val_accuracy: 0.9112\n",
            "Epoch 5/30\n",
            "1092/1100 [============================>.] - ETA: 0s - loss: 0.1933 - accuracy: 0.9305\n",
            "Epoch 00005: val_accuracy improved from 0.91120 to 0.91820, saving model to best_model.h5\n",
            "1100/1100 [==============================] - 7s 6ms/step - loss: 0.1933 - accuracy: 0.9306 - val_loss: 0.2605 - val_accuracy: 0.9182\n",
            "Epoch 6/30\n",
            "1099/1100 [============================>.] - ETA: 0s - loss: 0.1757 - accuracy: 0.9368\n",
            "Epoch 00006: val_accuracy did not improve from 0.91820\n",
            "1100/1100 [==============================] - 7s 6ms/step - loss: 0.1756 - accuracy: 0.9368 - val_loss: 0.2506 - val_accuracy: 0.9138\n",
            "Epoch 7/30\n",
            "1096/1100 [============================>.] - ETA: 0s - loss: 0.1438 - accuracy: 0.9482\n",
            "Epoch 00007: val_accuracy did not improve from 0.91820\n",
            "1100/1100 [==============================] - 7s 6ms/step - loss: 0.1438 - accuracy: 0.9482 - val_loss: 0.2716 - val_accuracy: 0.9178\n",
            "Epoch 8/30\n",
            "1094/1100 [============================>.] - ETA: 0s - loss: 0.1240 - accuracy: 0.9549\n",
            "Epoch 00008: val_accuracy did not improve from 0.91820\n",
            "1100/1100 [==============================] - 7s 6ms/step - loss: 0.1240 - accuracy: 0.9548 - val_loss: 0.2648 - val_accuracy: 0.9168\n",
            "Epoch 9/30\n",
            "1095/1100 [============================>.] - ETA: 0s - loss: 0.1214 - accuracy: 0.9570\n",
            "Epoch 00009: val_accuracy did not improve from 0.91820\n",
            "1100/1100 [==============================] - 7s 6ms/step - loss: 0.1213 - accuracy: 0.9570 - val_loss: 0.3395 - val_accuracy: 0.9180\n",
            "Epoch 10/30\n",
            "1099/1100 [============================>.] - ETA: 0s - loss: 0.0882 - accuracy: 0.9686\n",
            "Epoch 00010: val_accuracy improved from 0.91820 to 0.91980, saving model to best_model.h5\n",
            "1100/1100 [==============================] - 7s 6ms/step - loss: 0.0882 - accuracy: 0.9686 - val_loss: 0.3332 - val_accuracy: 0.9198\n",
            "Epoch 11/30\n",
            "1094/1100 [============================>.] - ETA: 0s - loss: 0.0729 - accuracy: 0.9734\n",
            "Epoch 00011: val_accuracy improved from 0.91980 to 0.92300, saving model to best_model.h5\n",
            "1100/1100 [==============================] - 7s 6ms/step - loss: 0.0731 - accuracy: 0.9733 - val_loss: 0.4918 - val_accuracy: 0.9230\n",
            "Epoch 00011: early stopping\n"
          ],
          "name": "stdout"
        },
        {
          "output_type": "display_data",
          "data": {
            "image/png": "[encoded data removed]",
            "text/plain": [
              "<Figure size 432x288 with 1 Axes>"
            ]
          },
          "metadata": {
            "tags": []
          }
        },
        {
          "output_type": "execute_result",
          "data": {
            "text/plain": [
              "<tensorflow.python.keras.callbacks.History at 0x7f80b6166cf8>"
            ]
          },
          "metadata": {
            "tags": []
          },
          "execution_count": 26
        }
      ]
    },
    {
      "cell_type": "code",
      "metadata": {
        "id": "oi3BbdRzcjS3",
        "colab_type": "code",
        "colab": {
          "base_uri": "https://localhost:8080/",
          "height": 88
        },
        "outputId": "28d2f9c2-37f7-4fc6-d0b5-4152002ef943"
      },
      "source": [
        "accuracy_score()"
      ],
      "execution_count": 27,
      "outputs": [
        {
          "output_type": "stream",
          "text": [
            "WARNING:tensorflow:Error in loading the saved optimizer state. As a result, your model is starting with a freshly initialized optimizer.\n",
            "Training accuracy: 97.9%\n",
            "Validation accuracy: 92.3%\n"
          ],
          "name": "stdout"
        }
      ]
    },
    {
      "cell_type": "markdown",
      "metadata": {
        "id": "VJtdli2ddGWe",
        "colab_type": "text"
      },
      "source": [
        "For the following parameters:\n",
        "```\n",
        "lr = 0.001\n",
        "batch_size = 50\n",
        "max_epochs = 30\n",
        "choice_init = 'he_uniform'\n",
        "batch_norm = True\n",
        "```\n",
        "\n",
        "We get: \n",
        "```\n",
        "Training accuracy: 97.9%\n",
        "Validation accuracy: 92.3%\n",
        "The training stops after 11 epochs.\n",
        "```"
      ]
    },
    {
      "cell_type": "markdown",
      "metadata": {
        "id": "CJh_TW5EhplB",
        "colab_type": "text"
      },
      "source": [
        "**Conclusion:** Xavier initialization performs marginally better than He initialization as demonstrated above."
      ]
    },
    {
      "cell_type": "markdown",
      "metadata": {
        "id": "rPPMCHj7d-Hh",
        "colab_type": "text"
      },
      "source": [
        "Let us check what happens if we do not use BatchNormalization before the final layer."
      ]
    },
    {
      "cell_type": "code",
      "metadata": {
        "id": "Lx3VPeCJdApp",
        "colab_type": "code",
        "colab": {
          "base_uri": "https://localhost:8080/",
          "height": 901
        },
        "outputId": "74888b75-44d9-4060-f723-14a1db97c66f"
      },
      "source": [
        "lr = 0.001\n",
        "batch_size = 50\n",
        "max_epochs = 50\n",
        "choice_init = 'glorot_uniform'\n",
        "batch_norm = False\n",
        "\n",
        "train_model(X_train, y_train_one_hot, X_val, y_val_one_hot, learning_rate=lr, batch_size=batch_size, \n",
        "            num_epochs=max_epochs, choice_init=choice_init, batch_norm=batch_norm)"
      ],
      "execution_count": 28,
      "outputs": [
        {
          "output_type": "stream",
          "text": [
            "Epoch 1/50\n",
            "1096/1100 [============================>.] - ETA: 0s - loss: 0.4944 - accuracy: 0.8381\n",
            "Epoch 00001: val_accuracy improved from -inf to 0.88680, saving model to best_model.h5\n",
            "1100/1100 [==============================] - 7s 6ms/step - loss: 0.4945 - accuracy: 0.8382 - val_loss: 0.3074 - val_accuracy: 0.8868\n",
            "Epoch 2/50\n",
            "1098/1100 [============================>.] - ETA: 0s - loss: 0.2885 - accuracy: 0.8948\n",
            "Epoch 00002: val_accuracy improved from 0.88680 to 0.89320, saving model to best_model.h5\n",
            "1100/1100 [==============================] - 7s 6ms/step - loss: 0.2884 - accuracy: 0.8948 - val_loss: 0.2921 - val_accuracy: 0.8932\n",
            "Epoch 3/50\n",
            "1100/1100 [==============================] - ETA: 0s - loss: 0.2525 - accuracy: 0.9071\n",
            "Epoch 00003: val_accuracy improved from 0.89320 to 0.90440, saving model to best_model.h5\n",
            "1100/1100 [==============================] - 7s 6ms/step - loss: 0.2525 - accuracy: 0.9071 - val_loss: 0.2516 - val_accuracy: 0.9044\n",
            "Epoch 4/50\n",
            "1099/1100 [============================>.] - ETA: 0s - loss: 0.2308 - accuracy: 0.9148\n",
            "Epoch 00004: val_accuracy improved from 0.90440 to 0.90660, saving model to best_model.h5\n",
            "1100/1100 [==============================] - 7s 6ms/step - loss: 0.2308 - accuracy: 0.9148 - val_loss: 0.2690 - val_accuracy: 0.9066\n",
            "Epoch 5/50\n",
            "1092/1100 [============================>.] - ETA: 0s - loss: 0.2126 - accuracy: 0.9219\n",
            "Epoch 00005: val_accuracy improved from 0.90660 to 0.90880, saving model to best_model.h5\n",
            "1100/1100 [==============================] - 7s 6ms/step - loss: 0.2128 - accuracy: 0.9217 - val_loss: 0.2600 - val_accuracy: 0.9088\n",
            "Epoch 6/50\n",
            "1094/1100 [============================>.] - ETA: 0s - loss: 0.1917 - accuracy: 0.9286\n",
            "Epoch 00006: val_accuracy did not improve from 0.90880\n",
            "1100/1100 [==============================] - 6s 6ms/step - loss: 0.1917 - accuracy: 0.9286 - val_loss: 0.2539 - val_accuracy: 0.9086\n",
            "Epoch 7/50\n",
            "1096/1100 [============================>.] - ETA: 0s - loss: 0.1776 - accuracy: 0.9326\n",
            "Epoch 00007: val_accuracy did not improve from 0.90880\n",
            "1100/1100 [==============================] - 6s 6ms/step - loss: 0.1776 - accuracy: 0.9326 - val_loss: 0.3004 - val_accuracy: 0.9072\n",
            "Epoch 8/50\n",
            "1098/1100 [============================>.] - ETA: 0s - loss: 0.1645 - accuracy: 0.9411\n",
            "Epoch 00008: val_accuracy did not improve from 0.90880\n",
            "1100/1100 [==============================] - 6s 6ms/step - loss: 0.1645 - accuracy: 0.9411 - val_loss: 0.2751 - val_accuracy: 0.9080\n",
            "Epoch 00008: early stopping\n"
          ],
          "name": "stdout"
        },
        {
          "output_type": "display_data",
          "data": {
            "image/png": "[encoded data removed]",
            "text/plain": [
              "<Figure size 432x288 with 1 Axes>"
            ]
          },
          "metadata": {
            "tags": []
          }
        },
        {
          "output_type": "execute_result",
          "data": {
            "text/plain": [
              "<tensorflow.python.keras.callbacks.History at 0x7f810c071e10>"
            ]
          },
          "metadata": {
            "tags": []
          },
          "execution_count": 28
        }
      ]
    },
    {
      "cell_type": "code",
      "metadata": {
        "id": "eSMZWhOJekyj",
        "colab_type": "code",
        "colab": {
          "base_uri": "https://localhost:8080/",
          "height": 88
        },
        "outputId": "8fdebf87-8ba6-4329-86f6-d46aaede474d"
      },
      "source": [
        "accuracy_score()"
      ],
      "execution_count": 29,
      "outputs": [
        {
          "output_type": "stream",
          "text": [
            "WARNING:tensorflow:Error in loading the saved optimizer state. As a result, your model is starting with a freshly initialized optimizer.\n",
            "Training accuracy: 93.04%\n",
            "Validation accuracy: 90.88%\n"
          ],
          "name": "stdout"
        }
      ]
    },
    {
      "cell_type": "markdown",
      "metadata": {
        "id": "ReDrucrregSc",
        "colab_type": "text"
      },
      "source": [
        "For the following parameters:\n",
        "```\n",
        "lr = 0.001\n",
        "batch_size = 50\n",
        "max_epochs = 50\n",
        "choice_init = 'glorot_uniform'\n",
        "batch_norm = False\n",
        "```\n",
        "\n",
        "We get: \n",
        "```\n",
        "Training accuracy: 93.04%\n",
        "Validation accuracy: 90.88%\n",
        "The training stops after 8 epochs.\n",
        "```\n",
        "\n",
        "**Conclusion** : Without BatchNormalization, overfitting starts very early, in epoch 8 itself. That is why the training stopped at epoch 8. The training error will keep decreasing, but the validation error will remain stationary for a few epochs and then start increasing due to overfitting.\n",
        "\n",
        "In order to see this, let us use the train_model() function without the effect of early stopping."
      ]
    },
    {
      "cell_type": "code",
      "metadata": {
        "id": "vD0xVdOleLE8",
        "colab_type": "code",
        "colab": {
          "base_uri": "https://localhost:8080/",
          "height": 1000
        },
        "outputId": "cd324569-1a53-421c-b2b6-80d3ff1f3ef7"
      },
      "source": [
        "def train_model_no_earlystop(X_train, y_train, X_val, y_val, learning_rate=0.001, batch_size=50, \n",
        "                num_epochs=20, choice_init='glorot_uniform', batch_norm=True):\n",
        "    # Create the model\n",
        "    fashion_mnist = create_model(choice_init, batch_norm)\n",
        "    \n",
        "    # Compile the model\n",
        "    adam = Adam(learning_rate=learning_rate)\n",
        "    fashion_mnist.compile(optimizer=adam, loss='categorical_crossentropy', metrics=['accuracy'])\n",
        "    \n",
        "    # Fit training data\n",
        "    history = fashion_mnist.fit(X_train, y_train, batch_size=batch_size, epochs=num_epochs, \n",
        "                                verbose=1, validation_data=(X_val, y_val))\n",
        "    \n",
        "    # plot graphs\n",
        "    plot_loss_curves(history)\n",
        "    return history\n",
        "\n",
        "lr = 0.001\n",
        "batch_size = 50\n",
        "max_epochs = 50\n",
        "choice_init = 'glorot_uniform'\n",
        "batch_norm = False\n",
        "\n",
        "history = train_model_no_earlystop(X_train, y_train_one_hot, X_val, y_val_one_hot, learning_rate=lr, batch_size=batch_size, \n",
        "            num_epochs=max_epochs, choice_init=choice_init, batch_norm=batch_norm)"
      ],
      "execution_count": 31,
      "outputs": [
        {
          "output_type": "stream",
          "text": [
            "Epoch 1/50\n",
            "1100/1100 [==============================] - 7s 6ms/step - loss: 0.4800 - accuracy: 0.8394 - val_loss: 0.3108 - val_accuracy: 0.8856\n",
            "Epoch 2/50\n",
            "1100/1100 [==============================] - 6s 6ms/step - loss: 0.2841 - accuracy: 0.8953 - val_loss: 0.2827 - val_accuracy: 0.9008\n",
            "Epoch 3/50\n",
            "1100/1100 [==============================] - 6s 6ms/step - loss: 0.2496 - accuracy: 0.9097 - val_loss: 0.2643 - val_accuracy: 0.9078\n",
            "Epoch 4/50\n",
            "1100/1100 [==============================] - 7s 6ms/step - loss: 0.2252 - accuracy: 0.9159 - val_loss: 0.2505 - val_accuracy: 0.9084\n",
            "Epoch 5/50\n",
            "1100/1100 [==============================] - 6s 6ms/step - loss: 0.2090 - accuracy: 0.9226 - val_loss: 0.2627 - val_accuracy: 0.9096\n",
            "Epoch 6/50\n",
            "1100/1100 [==============================] - 6s 6ms/step - loss: 0.1915 - accuracy: 0.9286 - val_loss: 0.2470 - val_accuracy: 0.9122\n",
            "Epoch 7/50\n",
            "1100/1100 [==============================] - 6s 6ms/step - loss: 0.1824 - accuracy: 0.9321 - val_loss: 0.2700 - val_accuracy: 0.9136\n",
            "Epoch 8/50\n",
            "1100/1100 [==============================] - 6s 6ms/step - loss: 0.1664 - accuracy: 0.9383 - val_loss: 0.3491 - val_accuracy: 0.9052\n",
            "Epoch 9/50\n",
            "1100/1100 [==============================] - 6s 6ms/step - loss: 0.1569 - accuracy: 0.9429 - val_loss: 0.2945 - val_accuracy: 0.9096\n",
            "Epoch 10/50\n",
            "1100/1100 [==============================] - 6s 6ms/step - loss: 0.1521 - accuracy: 0.9454 - val_loss: 0.2986 - val_accuracy: 0.9176\n",
            "Epoch 11/50\n",
            "1100/1100 [==============================] - 6s 6ms/step - loss: 0.1332 - accuracy: 0.9511 - val_loss: 0.2805 - val_accuracy: 0.9164\n",
            "Epoch 12/50\n",
            "1100/1100 [==============================] - 6s 6ms/step - loss: 0.1238 - accuracy: 0.9543 - val_loss: 0.2960 - val_accuracy: 0.9160\n",
            "Epoch 13/50\n",
            "1100/1100 [==============================] - 6s 6ms/step - loss: 0.1198 - accuracy: 0.9570 - val_loss: 0.2906 - val_accuracy: 0.9156\n",
            "Epoch 14/50\n",
            "1100/1100 [==============================] - 7s 6ms/step - loss: 0.1083 - accuracy: 0.9604 - val_loss: 0.3194 - val_accuracy: 0.9190\n",
            "Epoch 15/50\n",
            "1100/1100 [==============================] - 7s 6ms/step - loss: 0.1040 - accuracy: 0.9626 - val_loss: 0.3473 - val_accuracy: 0.9176\n",
            "Epoch 16/50\n",
            "1100/1100 [==============================] - 6s 6ms/step - loss: 0.1034 - accuracy: 0.9638 - val_loss: 0.3780 - val_accuracy: 0.9144\n",
            "Epoch 17/50\n",
            "1100/1100 [==============================] - 7s 6ms/step - loss: 0.0973 - accuracy: 0.9651 - val_loss: 0.4013 - val_accuracy: 0.9154\n",
            "Epoch 18/50\n",
            "1100/1100 [==============================] - 6s 6ms/step - loss: 0.0904 - accuracy: 0.9681 - val_loss: 0.3835 - val_accuracy: 0.9190\n",
            "Epoch 19/50\n",
            "1100/1100 [==============================] - 6s 6ms/step - loss: 0.0887 - accuracy: 0.9689 - val_loss: 0.3848 - val_accuracy: 0.9170\n",
            "Epoch 20/50\n",
            "1100/1100 [==============================] - 6s 6ms/step - loss: 0.0892 - accuracy: 0.9689 - val_loss: 0.3482 - val_accuracy: 0.9164\n",
            "Epoch 21/50\n",
            "1100/1100 [==============================] - 6s 6ms/step - loss: 0.0798 - accuracy: 0.9723 - val_loss: 0.4264 - val_accuracy: 0.9198\n",
            "Epoch 22/50\n",
            "1100/1100 [==============================] - 6s 6ms/step - loss: 0.0822 - accuracy: 0.9720 - val_loss: 0.4172 - val_accuracy: 0.9130\n",
            "Epoch 23/50\n",
            "1100/1100 [==============================] - 6s 6ms/step - loss: 0.0671 - accuracy: 0.9771 - val_loss: 0.4280 - val_accuracy: 0.9206\n",
            "Epoch 24/50\n",
            "1100/1100 [==============================] - 6s 6ms/step - loss: 0.0674 - accuracy: 0.9780 - val_loss: 0.4215 - val_accuracy: 0.9146\n",
            "Epoch 25/50\n",
            "1100/1100 [==============================] - 6s 6ms/step - loss: 0.0940 - accuracy: 0.9698 - val_loss: 0.4114 - val_accuracy: 0.9100\n",
            "Epoch 26/50\n",
            "1100/1100 [==============================] - 6s 6ms/step - loss: 0.0781 - accuracy: 0.9743 - val_loss: 0.3927 - val_accuracy: 0.9086\n",
            "Epoch 27/50\n",
            "1100/1100 [==============================] - 6s 6ms/step - loss: 0.0618 - accuracy: 0.9794 - val_loss: 0.3761 - val_accuracy: 0.9160\n",
            "Epoch 28/50\n",
            "1100/1100 [==============================] - 7s 6ms/step - loss: 0.0646 - accuracy: 0.9785 - val_loss: 0.4892 - val_accuracy: 0.9102\n",
            "Epoch 29/50\n",
            "1100/1100 [==============================] - 6s 6ms/step - loss: 0.0637 - accuracy: 0.9789 - val_loss: 0.4681 - val_accuracy: 0.9106\n",
            "Epoch 30/50\n",
            "1100/1100 [==============================] - 6s 6ms/step - loss: 0.0766 - accuracy: 0.9767 - val_loss: 0.5285 - val_accuracy: 0.9162\n",
            "Epoch 31/50\n",
            "1100/1100 [==============================] - 6s 6ms/step - loss: 0.0495 - accuracy: 0.9842 - val_loss: 0.4679 - val_accuracy: 0.9162\n",
            "Epoch 32/50\n",
            "1100/1100 [==============================] - 6s 6ms/step - loss: 0.0670 - accuracy: 0.9803 - val_loss: 0.4754 - val_accuracy: 0.9144\n",
            "Epoch 33/50\n",
            "1100/1100 [==============================] - 6s 6ms/step - loss: 0.0490 - accuracy: 0.9844 - val_loss: 0.5227 - val_accuracy: 0.9182\n",
            "Epoch 34/50\n",
            "1100/1100 [==============================] - 6s 6ms/step - loss: 0.0599 - accuracy: 0.9820 - val_loss: 0.5582 - val_accuracy: 0.9094\n",
            "Epoch 35/50\n",
            "1100/1100 [==============================] - 6s 6ms/step - loss: 0.0712 - accuracy: 0.9795 - val_loss: 0.4341 - val_accuracy: 0.9024\n",
            "Epoch 36/50\n",
            "1100/1100 [==============================] - 7s 6ms/step - loss: 0.0716 - accuracy: 0.9787 - val_loss: 0.5665 - val_accuracy: 0.9118\n",
            "Epoch 37/50\n",
            "1100/1100 [==============================] - 6s 6ms/step - loss: 0.0620 - accuracy: 0.9816 - val_loss: 0.5620 - val_accuracy: 0.9120\n",
            "Epoch 38/50\n",
            "1100/1100 [==============================] - 6s 6ms/step - loss: 0.0438 - accuracy: 0.9871 - val_loss: 0.5800 - val_accuracy: 0.9130\n",
            "Epoch 39/50\n",
            "1100/1100 [==============================] - 6s 6ms/step - loss: 0.0786 - accuracy: 0.9767 - val_loss: 0.6208 - val_accuracy: 0.9158\n",
            "Epoch 40/50\n",
            "1100/1100 [==============================] - 6s 6ms/step - loss: 0.0395 - accuracy: 0.9879 - val_loss: 0.6065 - val_accuracy: 0.9162\n",
            "Epoch 41/50\n",
            "1100/1100 [==============================] - 7s 6ms/step - loss: 0.0773 - accuracy: 0.9798 - val_loss: 0.6469 - val_accuracy: 0.9120\n",
            "Epoch 42/50\n",
            "1100/1100 [==============================] - 7s 6ms/step - loss: 0.0506 - accuracy: 0.9853 - val_loss: 0.5100 - val_accuracy: 0.9142\n",
            "Epoch 43/50\n",
            "1100/1100 [==============================] - 6s 6ms/step - loss: 0.0380 - accuracy: 0.9880 - val_loss: 0.6770 - val_accuracy: 0.9092\n",
            "Epoch 44/50\n",
            "1100/1100 [==============================] - 6s 6ms/step - loss: 0.1256 - accuracy: 0.9734 - val_loss: 0.5491 - val_accuracy: 0.9160\n",
            "Epoch 45/50\n",
            "1100/1100 [==============================] - 6s 6ms/step - loss: 0.0664 - accuracy: 0.9811 - val_loss: 0.4704 - val_accuracy: 0.9106\n",
            "Epoch 46/50\n",
            "1100/1100 [==============================] - 7s 6ms/step - loss: 0.0642 - accuracy: 0.9823 - val_loss: 0.6146 - val_accuracy: 0.9164\n",
            "Epoch 47/50\n",
            "1100/1100 [==============================] - 7s 6ms/step - loss: 0.0322 - accuracy: 0.9908 - val_loss: 0.8066 - val_accuracy: 0.9220\n",
            "Epoch 48/50\n",
            "1100/1100 [==============================] - 7s 6ms/step - loss: 0.0369 - accuracy: 0.9893 - val_loss: 0.6469 - val_accuracy: 0.9118\n",
            "Epoch 49/50\n",
            "1100/1100 [==============================] - 6s 6ms/step - loss: 0.0530 - accuracy: 0.9855 - val_loss: 0.5660 - val_accuracy: 0.9162\n",
            "Epoch 50/50\n",
            "1100/1100 [==============================] - 7s 6ms/step - loss: 0.0952 - accuracy: 0.9771 - val_loss: 0.6987 - val_accuracy: 0.9082\n"
          ],
          "name": "stdout"
        },
        {
          "output_type": "display_data",
          "data": {
            "image/png": "[encoded data removed]",
            "text/plain": [
              "<Figure size 432x288 with 1 Axes>"
            ]
          },
          "metadata": {
            "tags": []
          }
        }
      ]
    },
    {
      "cell_type": "markdown",
      "metadata": {
        "id": "uqtRCzQ2hXD5",
        "colab_type": "text"
      },
      "source": [
        "The above graph shows that overfitting started somewhere around epoch 7 or 8. That is why, when we used early stopping callback, the training stopped at epoch number 8."
      ]
    },
    {
      "cell_type": "markdown",
      "metadata": {
        "id": "W8PVlLJxiwcS",
        "colab_type": "text"
      },
      "source": [
        "Let us now see the effect of changing the batch size."
      ]
    },
    {
      "cell_type": "code",
      "metadata": {
        "id": "OVChNO1wf-c0",
        "colab_type": "code",
        "colab": {
          "base_uri": "https://localhost:8080/",
          "height": 833
        },
        "outputId": "9652d528-1a70-425f-ef85-5ea3712b5c35"
      },
      "source": [
        "lr = 0.001\n",
        "batch_size = 10\n",
        "max_epochs = 50\n",
        "choice_init = 'glorot_uniform'\n",
        "batch_norm = True\n",
        "\n",
        "train_model(X_train, y_train_one_hot, X_val, y_val_one_hot, learning_rate=lr, batch_size=batch_size, \n",
        "            num_epochs=max_epochs, choice_init=choice_init, batch_norm=batch_norm)"
      ],
      "execution_count": 32,
      "outputs": [
        {
          "output_type": "stream",
          "text": [
            "Epoch 1/50\n",
            "5497/5500 [============================>.] - ETA: 0s - loss: 0.6392 - accuracy: 0.7720\n",
            "Epoch 00001: val_accuracy improved from -inf to 0.76880, saving model to best_model.h5\n",
            "5500/5500 [==============================] - 21s 4ms/step - loss: 0.6391 - accuracy: 0.7720 - val_loss: 2.1075 - val_accuracy: 0.7688\n",
            "Epoch 2/50\n",
            "5487/5500 [============================>.] - ETA: 0s - loss: 0.3815 - accuracy: 0.8672\n",
            "Epoch 00002: val_accuracy improved from 0.76880 to 0.89260, saving model to best_model.h5\n",
            "5500/5500 [==============================] - 21s 4ms/step - loss: 0.3813 - accuracy: 0.8673 - val_loss: 0.3580 - val_accuracy: 0.8926\n",
            "Epoch 3/50\n",
            "5489/5500 [============================>.] - ETA: 0s - loss: 0.3300 - accuracy: 0.8842\n",
            "Epoch 00003: val_accuracy did not improve from 0.89260\n",
            "5500/5500 [==============================] - 21s 4ms/step - loss: 0.3300 - accuracy: 0.8842 - val_loss: 0.5925 - val_accuracy: 0.8882\n",
            "Epoch 4/50\n",
            "5490/5500 [============================>.] - ETA: 0s - loss: 0.3038 - accuracy: 0.8937\n",
            "Epoch 00004: val_accuracy did not improve from 0.89260\n",
            "5500/5500 [==============================] - 21s 4ms/step - loss: 0.3039 - accuracy: 0.8936 - val_loss: 0.7524 - val_accuracy: 0.8824\n",
            "Epoch 5/50\n",
            "5493/5500 [============================>.] - ETA: 0s - loss: 0.2619 - accuracy: 0.9081\n",
            "Epoch 00005: val_accuracy improved from 0.89260 to 0.89940, saving model to best_model.h5\n",
            "5500/5500 [==============================] - 21s 4ms/step - loss: 0.2619 - accuracy: 0.9081 - val_loss: 3.7106 - val_accuracy: 0.8994\n",
            "Epoch 6/50\n",
            "5487/5500 [============================>.] - ETA: 0s - loss: 0.2355 - accuracy: 0.9177\n",
            "Epoch 00006: val_accuracy did not improve from 0.89940\n",
            "5500/5500 [==============================] - 21s 4ms/step - loss: 0.2357 - accuracy: 0.9177 - val_loss: 37.9547 - val_accuracy: 0.8834\n",
            "Epoch 7/50\n",
            "5487/5500 [============================>.] - ETA: 0s - loss: 0.2150 - accuracy: 0.9248\n",
            "Epoch 00007: val_accuracy improved from 0.89940 to 0.91120, saving model to best_model.h5\n",
            "5500/5500 [==============================] - 21s 4ms/step - loss: 0.2149 - accuracy: 0.9248 - val_loss: 29.7894 - val_accuracy: 0.9112\n",
            "Epoch 00007: early stopping\n"
          ],
          "name": "stdout"
        },
        {
          "output_type": "display_data",
          "data": {
            "image/png": "[encoded data removed]",
            "text/plain": [
              "<Figure size 432x288 with 1 Axes>"
            ]
          },
          "metadata": {
            "tags": []
          }
        },
        {
          "output_type": "execute_result",
          "data": {
            "text/plain": [
              "<tensorflow.python.keras.callbacks.History at 0x7f812606ac18>"
            ]
          },
          "metadata": {
            "tags": []
          },
          "execution_count": 32
        }
      ]
    },
    {
      "cell_type": "markdown",
      "metadata": {
        "id": "lQ67sHRolbw3",
        "colab_type": "text"
      },
      "source": [
        "Having a smaller batch size makes the validation curve very jumpy."
      ]
    },
    {
      "cell_type": "code",
      "metadata": {
        "id": "9pVcqMN7i5tI",
        "colab_type": "code",
        "colab": {
          "base_uri": "https://localhost:8080/",
          "height": 88
        },
        "outputId": "114e5205-1a99-4539-92b8-117c8ccf2c6f"
      },
      "source": [
        "accuracy_score()"
      ],
      "execution_count": 33,
      "outputs": [
        {
          "output_type": "stream",
          "text": [
            "WARNING:tensorflow:Error in loading the saved optimizer state. As a result, your model is starting with a freshly initialized optimizer.\n",
            "Training accuracy: 93.567%\n",
            "Validation accuracy: 91.12%\n"
          ],
          "name": "stdout"
        }
      ]
    },
    {
      "cell_type": "markdown",
      "metadata": {
        "id": "8zb3MCpXmxr_",
        "colab_type": "text"
      },
      "source": [
        "Change in the learning rate"
      ]
    },
    {
      "cell_type": "code",
      "metadata": {
        "id": "gXflTFCXm1C8",
        "colab_type": "code",
        "colab": {
          "base_uri": "https://localhost:8080/",
          "height": 884
        },
        "outputId": "e1db1192-ee32-4725-a0b9-d00ffd7b2b83"
      },
      "source": [
        "lr = 0.01\n",
        "batch_size = 50\n",
        "max_epochs = 50\n",
        "choice_init = 'glorot_uniform'\n",
        "batch_norm = True\n",
        "\n",
        "history = train_model(X_train, y_train_one_hot, X_val, y_val_one_hot, learning_rate=lr, batch_size=batch_size, \n",
        "            num_epochs=max_epochs, choice_init=choice_init, batch_norm=batch_norm)"
      ],
      "execution_count": 38,
      "outputs": [
        {
          "output_type": "stream",
          "text": [
            "Epoch 1/50\n",
            "1099/1100 [============================>.] - ETA: 0s - loss: 0.6534 - accuracy: 0.7636\n",
            "Epoch 00001: val_accuracy improved from -inf to 0.74260, saving model to best_model.h5\n",
            "1100/1100 [==============================] - 7s 6ms/step - loss: 0.6533 - accuracy: 0.7637 - val_loss: 0.7866 - val_accuracy: 0.7426\n",
            "Epoch 2/50\n",
            "1100/1100 [==============================] - ETA: 0s - loss: 0.3684 - accuracy: 0.8667\n",
            "Epoch 00002: val_accuracy improved from 0.74260 to 0.87200, saving model to best_model.h5\n",
            "1100/1100 [==============================] - 7s 6ms/step - loss: 0.3684 - accuracy: 0.8667 - val_loss: 0.3619 - val_accuracy: 0.8720\n",
            "Epoch 3/50\n",
            "1093/1100 [============================>.] - ETA: 0s - loss: 0.3026 - accuracy: 0.8913\n",
            "Epoch 00003: val_accuracy improved from 0.87200 to 0.89780, saving model to best_model.h5\n",
            "1100/1100 [==============================] - 7s 6ms/step - loss: 0.3025 - accuracy: 0.8914 - val_loss: 0.2869 - val_accuracy: 0.8978\n",
            "Epoch 4/50\n",
            "1099/1100 [============================>.] - ETA: 0s - loss: 0.2690 - accuracy: 0.9023\n",
            "Epoch 00004: val_accuracy improved from 0.89780 to 0.90180, saving model to best_model.h5\n",
            "1100/1100 [==============================] - 7s 6ms/step - loss: 0.2689 - accuracy: 0.9024 - val_loss: 102.2527 - val_accuracy: 0.9018\n",
            "Epoch 5/50\n",
            "1093/1100 [============================>.] - ETA: 0s - loss: 0.2424 - accuracy: 0.9127\n",
            "Epoch 00005: val_accuracy did not improve from 0.90180\n",
            "1100/1100 [==============================] - 7s 6ms/step - loss: 0.2423 - accuracy: 0.9128 - val_loss: 156.5919 - val_accuracy: 0.8912\n",
            "Epoch 6/50\n",
            "1094/1100 [============================>.] - ETA: 0s - loss: 0.2243 - accuracy: 0.9190\n",
            "Epoch 00006: val_accuracy improved from 0.90180 to 0.90540, saving model to best_model.h5\n",
            "1100/1100 [==============================] - 7s 6ms/step - loss: 0.2243 - accuracy: 0.9190 - val_loss: 83.8983 - val_accuracy: 0.9054\n",
            "Epoch 7/50\n",
            "1096/1100 [============================>.] - ETA: 0s - loss: 0.2117 - accuracy: 0.9223\n",
            "Epoch 00007: val_accuracy did not improve from 0.90540\n",
            "1100/1100 [==============================] - 7s 6ms/step - loss: 0.2118 - accuracy: 0.9223 - val_loss: 144.7701 - val_accuracy: 0.8978\n",
            "Epoch 8/50\n",
            "1095/1100 [============================>.] - ETA: 0s - loss: 0.2007 - accuracy: 0.9277\n",
            "Epoch 00008: val_accuracy improved from 0.90540 to 0.91600, saving model to best_model.h5\n",
            "1100/1100 [==============================] - 7s 6ms/step - loss: 0.2006 - accuracy: 0.9276 - val_loss: 188.1213 - val_accuracy: 0.9160\n",
            "Epoch 00008: early stopping\n"
          ],
          "name": "stdout"
        },
        {
          "output_type": "display_data",
          "data": {
            "image/png": "[encoded data removed]",
            "text/plain": [
              "<Figure size 432x288 with 1 Axes>"
            ]
          },
          "metadata": {
            "tags": []
          }
        }
      ]
    },
    {
      "cell_type": "markdown",
      "metadata": {
        "id": "VQtZVmxHoHJi",
        "colab_type": "text"
      },
      "source": [
        "For a learning rate of 0.01, the validation loss curve is very wavy, due to the large updates in the paramters at every gradient descent step. The model overshoots the minima and possibly oscillates around the minima also, which is why we get very large loss values at some epochs."
      ]
    },
    {
      "cell_type": "code",
      "metadata": {
        "id": "QZDbp_mEoeSg",
        "colab_type": "code",
        "colab": {
          "base_uri": "https://localhost:8080/",
          "height": 1000
        },
        "outputId": "f54f3d7c-308c-4078-8809-3746a7ca5ba7"
      },
      "source": [
        "lr = 0.0005\n",
        "batch_size = 50\n",
        "max_epochs = 50\n",
        "choice_init = 'glorot_uniform'\n",
        "batch_norm = True\n",
        "\n",
        "history = train_model(X_train, y_train_one_hot, X_val, y_val_one_hot, learning_rate=lr, batch_size=batch_size, \n",
        "            num_epochs=max_epochs, choice_init=choice_init, batch_norm=batch_norm)"
      ],
      "execution_count": 39,
      "outputs": [
        {
          "output_type": "stream",
          "text": [
            "Epoch 1/50\n",
            "1097/1100 [============================>.] - ETA: 0s - loss: 0.4034 - accuracy: 0.8563\n",
            "Epoch 00001: val_accuracy improved from -inf to 0.86240, saving model to best_model.h5\n",
            "1100/1100 [==============================] - 7s 6ms/step - loss: 0.4032 - accuracy: 0.8563 - val_loss: 0.4118 - val_accuracy: 0.8624\n",
            "Epoch 2/50\n",
            "1096/1100 [============================>.] - ETA: 0s - loss: 0.2709 - accuracy: 0.9021\n",
            "Epoch 00002: val_accuracy improved from 0.86240 to 0.87760, saving model to best_model.h5\n",
            "1100/1100 [==============================] - 7s 6ms/step - loss: 0.2706 - accuracy: 0.9023 - val_loss: 0.3451 - val_accuracy: 0.8776\n",
            "Epoch 3/50\n",
            "1096/1100 [============================>.] - ETA: 0s - loss: 0.2264 - accuracy: 0.9176\n",
            "Epoch 00003: val_accuracy improved from 0.87760 to 0.91020, saving model to best_model.h5\n",
            "1100/1100 [==============================] - 7s 6ms/step - loss: 0.2263 - accuracy: 0.9176 - val_loss: 0.2746 - val_accuracy: 0.9102\n",
            "Epoch 4/50\n",
            "1099/1100 [============================>.] - ETA: 0s - loss: 0.1956 - accuracy: 0.9296\n",
            "Epoch 00004: val_accuracy did not improve from 0.91020\n",
            "1100/1100 [==============================] - 7s 6ms/step - loss: 0.1956 - accuracy: 0.9297 - val_loss: 0.2954 - val_accuracy: 0.9048\n",
            "Epoch 5/50\n",
            "1097/1100 [============================>.] - ETA: 0s - loss: 0.1708 - accuracy: 0.9391\n",
            "Epoch 00005: val_accuracy improved from 0.91020 to 0.92820, saving model to best_model.h5\n",
            "1100/1100 [==============================] - 7s 6ms/step - loss: 0.1709 - accuracy: 0.9390 - val_loss: 0.2158 - val_accuracy: 0.9282\n",
            "Epoch 6/50\n",
            "1097/1100 [============================>.] - ETA: 0s - loss: 0.1416 - accuracy: 0.9481\n",
            "Epoch 00006: val_accuracy did not improve from 0.92820\n",
            "1100/1100 [==============================] - 7s 6ms/step - loss: 0.1418 - accuracy: 0.9481 - val_loss: 0.2388 - val_accuracy: 0.9232\n",
            "Epoch 7/50\n",
            "1092/1100 [============================>.] - ETA: 0s - loss: 0.1217 - accuracy: 0.9562\n",
            "Epoch 00007: val_accuracy did not improve from 0.92820\n",
            "1100/1100 [==============================] - 7s 6ms/step - loss: 0.1216 - accuracy: 0.9562 - val_loss: 0.2438 - val_accuracy: 0.9264\n",
            "Epoch 8/50\n",
            "1100/1100 [==============================] - ETA: 0s - loss: 0.1035 - accuracy: 0.9618\n",
            "Epoch 00008: val_accuracy did not improve from 0.92820\n",
            "1100/1100 [==============================] - 7s 6ms/step - loss: 0.1035 - accuracy: 0.9618 - val_loss: 0.2543 - val_accuracy: 0.9214\n",
            "Epoch 9/50\n",
            "1096/1100 [============================>.] - ETA: 0s - loss: 0.0852 - accuracy: 0.9690\n",
            "Epoch 00009: val_accuracy did not improve from 0.92820\n",
            "1100/1100 [==============================] - 7s 6ms/step - loss: 0.0852 - accuracy: 0.9690 - val_loss: 0.3072 - val_accuracy: 0.9056\n",
            "Epoch 10/50\n",
            "1095/1100 [============================>.] - ETA: 0s - loss: 0.0710 - accuracy: 0.9743\n",
            "Epoch 00010: val_accuracy did not improve from 0.92820\n",
            "1100/1100 [==============================] - 7s 6ms/step - loss: 0.0711 - accuracy: 0.9743 - val_loss: 0.2608 - val_accuracy: 0.9236\n",
            "Epoch 00010: early stopping\n"
          ],
          "name": "stdout"
        },
        {
          "output_type": "display_data",
          "data": {
            "image/png": "[encoded data removed]",
            "text/plain": [
              "<Figure size 432x288 with 1 Axes>"
            ]
          },
          "metadata": {
            "tags": []
          }
        }
      ]
    },
    {
      "cell_type": "code",
      "metadata": {
        "id": "PCb1IYbBo3pd",
        "colab_type": "code",
        "colab": {
          "base_uri": "https://localhost:8080/",
          "height": 88
        },
        "outputId": "761c6521-4196-401c-f06f-9441876eb3bc"
      },
      "source": [
        "accuracy_score()"
      ],
      "execution_count": 40,
      "outputs": [
        {
          "output_type": "stream",
          "text": [
            "WARNING:tensorflow:Error in loading the saved optimizer state. As a result, your model is starting with a freshly initialized optimizer.\n",
            "Training accuracy: 95.709%\n",
            "Validation accuracy: 92.82%\n"
          ],
          "name": "stdout"
        }
      ]
    },
    {
      "cell_type": "markdown",
      "metadata": {
        "id": "E9fqfBYppXGb",
        "colab_type": "text"
      },
      "source": [
        "For the following parameters:\n",
        "```\n",
        "lr = 0.0005\n",
        "batch_size = 50\n",
        "max_epochs = 50\n",
        "choice_init = 'glorot_uniform'\n",
        "batch_norm = True\n",
        "```\n",
        "\n",
        "We get: \n",
        "```\n",
        "Training accuracy: 95.709%\n",
        "Validation accuracy: 92.82%\n",
        "The training stops after 10 epochs.\n",
        "```"
      ]
    },
    {
      "cell_type": "markdown",
      "metadata": {
        "id": "ZVlbxo5ZpJll",
        "colab_type": "text"
      },
      "source": [
        "The accuracy is a slight improvement over the case where we used learning rate of 0.001."
      ]
    },
    {
      "cell_type": "code",
      "metadata": {
        "id": "GA8aIfItp1Ve",
        "colab_type": "code",
        "colab": {
          "base_uri": "https://localhost:8080/",
          "height": 1000
        },
        "outputId": "2e614792-3a2e-4d30-fe57-f05a22861a55"
      },
      "source": [
        "lr = 0.0001\n",
        "batch_size = 50\n",
        "max_epochs = 50\n",
        "choice_init = 'glorot_uniform'\n",
        "batch_norm = True\n",
        "\n",
        "history = train_model(X_train, y_train_one_hot, X_val, y_val_one_hot, learning_rate=lr, batch_size=batch_size, \n",
        "            num_epochs=max_epochs, choice_init=choice_init, batch_norm=batch_norm)"
      ],
      "execution_count": 41,
      "outputs": [
        {
          "output_type": "stream",
          "text": [
            "Epoch 1/50\n",
            "1096/1100 [============================>.] - ETA: 0s - loss: 0.4366 - accuracy: 0.8469\n",
            "Epoch 00001: val_accuracy improved from -inf to 0.84720, saving model to best_model.h5\n",
            "1100/1100 [==============================] - 7s 6ms/step - loss: 0.4364 - accuracy: 0.8469 - val_loss: 0.4466 - val_accuracy: 0.8472\n",
            "Epoch 2/50\n",
            "1099/1100 [============================>.] - ETA: 0s - loss: 0.2989 - accuracy: 0.8922\n",
            "Epoch 00002: val_accuracy improved from 0.84720 to 0.86200, saving model to best_model.h5\n",
            "1100/1100 [==============================] - 7s 6ms/step - loss: 0.2990 - accuracy: 0.8921 - val_loss: 0.3847 - val_accuracy: 0.8620\n",
            "Epoch 3/50\n",
            "1094/1100 [============================>.] - ETA: 0s - loss: 0.2480 - accuracy: 0.9113\n",
            "Epoch 00003: val_accuracy improved from 0.86200 to 0.88840, saving model to best_model.h5\n",
            "1100/1100 [==============================] - 7s 6ms/step - loss: 0.2480 - accuracy: 0.9113 - val_loss: 0.3270 - val_accuracy: 0.8884\n",
            "Epoch 4/50\n",
            "1093/1100 [============================>.] - ETA: 0s - loss: 0.2148 - accuracy: 0.9225\n",
            "Epoch 00004: val_accuracy did not improve from 0.88840\n",
            "1100/1100 [==============================] - 7s 6ms/step - loss: 0.2152 - accuracy: 0.9224 - val_loss: 0.3923 - val_accuracy: 0.8728\n",
            "Epoch 5/50\n",
            "1092/1100 [============================>.] - ETA: 0s - loss: 0.1839 - accuracy: 0.9345\n",
            "Epoch 00005: val_accuracy improved from 0.88840 to 0.89600, saving model to best_model.h5\n",
            "1100/1100 [==============================] - 7s 6ms/step - loss: 0.1840 - accuracy: 0.9345 - val_loss: 0.3492 - val_accuracy: 0.8960\n",
            "Epoch 6/50\n",
            "1100/1100 [==============================] - ETA: 0s - loss: 0.1574 - accuracy: 0.9420\n",
            "Epoch 00006: val_accuracy improved from 0.89600 to 0.90420, saving model to best_model.h5\n",
            "1100/1100 [==============================] - 7s 6ms/step - loss: 0.1574 - accuracy: 0.9420 - val_loss: 0.2876 - val_accuracy: 0.9042\n",
            "Epoch 7/50\n",
            "1095/1100 [============================>.] - ETA: 0s - loss: 0.1332 - accuracy: 0.9519\n",
            "Epoch 00007: val_accuracy did not improve from 0.90420\n",
            "1100/1100 [==============================] - 7s 6ms/step - loss: 0.1329 - accuracy: 0.9519 - val_loss: 0.4013 - val_accuracy: 0.8838\n",
            "Epoch 8/50\n",
            "1096/1100 [============================>.] - ETA: 0s - loss: 0.1132 - accuracy: 0.9585\n",
            "Epoch 00008: val_accuracy did not improve from 0.90420\n",
            "1100/1100 [==============================] - 7s 6ms/step - loss: 0.1134 - accuracy: 0.9584 - val_loss: 0.3825 - val_accuracy: 0.8880\n",
            "Epoch 9/50\n",
            "1097/1100 [============================>.] - ETA: 0s - loss: 0.0900 - accuracy: 0.9678\n",
            "Epoch 00009: val_accuracy improved from 0.90420 to 0.92340, saving model to best_model.h5\n",
            "1100/1100 [==============================] - 7s 6ms/step - loss: 0.0899 - accuracy: 0.9678 - val_loss: 0.3005 - val_accuracy: 0.9234\n",
            "Epoch 10/50\n",
            "1093/1100 [============================>.] - ETA: 0s - loss: 0.0767 - accuracy: 0.9726\n",
            "Epoch 00010: val_accuracy did not improve from 0.92340\n",
            "1100/1100 [==============================] - 7s 6ms/step - loss: 0.0765 - accuracy: 0.9727 - val_loss: 0.5608 - val_accuracy: 0.8676\n",
            "Epoch 11/50\n",
            "1095/1100 [============================>.] - ETA: 0s - loss: 0.0659 - accuracy: 0.9761\n",
            "Epoch 00011: val_accuracy did not improve from 0.92340\n",
            "1100/1100 [==============================] - 7s 6ms/step - loss: 0.0659 - accuracy: 0.9761 - val_loss: 0.3585 - val_accuracy: 0.9098\n",
            "Epoch 00011: early stopping\n"
          ],
          "name": "stdout"
        },
        {
          "output_type": "display_data",
          "data": {
            "image/png": "[encoded data removed]",
            "text/plain": [
              "<Figure size 432x288 with 1 Axes>"
            ]
          },
          "metadata": {
            "tags": []
          }
        }
      ]
    },
    {
      "cell_type": "code",
      "metadata": {
        "id": "HaFmcsVuqMN5",
        "colab_type": "code",
        "colab": {
          "base_uri": "https://localhost:8080/",
          "height": 88
        },
        "outputId": "9be92e15-d222-4245-bff2-8c93c7e7734c"
      },
      "source": [
        "accuracy_score()"
      ],
      "execution_count": 42,
      "outputs": [
        {
          "output_type": "stream",
          "text": [
            "WARNING:tensorflow:Error in loading the saved optimizer state. As a result, your model is starting with a freshly initialized optimizer.\n",
            "Training accuracy: 97.438%\n",
            "Validation accuracy: 92.34%\n"
          ],
          "name": "stdout"
        }
      ]
    },
    {
      "cell_type": "markdown",
      "metadata": {
        "id": "LQX0V8UgqUq4",
        "colab_type": "text"
      },
      "source": [
        "For the following parameters:\n",
        "```\n",
        "lr = 0.0001\n",
        "batch_size = 50\n",
        "max_epochs = 50\n",
        "choice_init = 'glorot_uniform'\n",
        "batch_norm = True\n",
        "```\n",
        "\n",
        "We get: \n",
        "```\n",
        "Training accuracy: 97.438%\n",
        "Validation accuracy: 92.34%\n",
        "The training stops after 10 epochs.\n",
        "```"
      ]
    },
    {
      "cell_type": "markdown",
      "metadata": {
        "id": "08qteS0gmMR7",
        "colab_type": "text"
      },
      "source": [
        "**CONCLUSION:** We can see that the best results are obtained by using Xaiver initialization, a batch size of 50, early stopping to avoid overfitting, learning rate = 0.0005. The use of batch normalization also helps mitigate the problem of overfitting."
      ]
    }
  ]
}